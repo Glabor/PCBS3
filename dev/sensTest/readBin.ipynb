{
 "cells": [
  {
   "cell_type": "code",
   "execution_count": null,
   "metadata": {},
   "outputs": [],
   "source": [
    "fn=\"adxl\"\n",
    "with open(f\"{fn}.bin\", 'rb') as file:\n",
    "    content=file.readlines()\n",
    "    content = b''.join(content)\n",
    "    print(content)"
   ]
  },
  {
   "cell_type": "code",
   "execution_count": null,
   "metadata": {},
   "outputs": [],
   "source": [
    "import pandas as pd\n",
    "import plotly.express as px\n",
    "\n",
    "param={\"sick\":6, \"lsm\":10, \"adxl\":10}\n",
    "lt,lx,ly,lz=[],[],[],[]\n",
    "for i in range(0,len(content),param[fn]):\n",
    "    lt.append(int.from_bytes(content[i:i+4],byteorder='big', signed=False))  \n",
    "    if fn==\"sick\":\n",
    "        lx.append(int.from_bytes(content[i+4:i+6],byteorder='big', signed=True))\n",
    "    else:\n",
    "        lx.append(int.from_bytes(content[i+4:i+6],byteorder='big', signed=True)/100)\n",
    "        ly.append(int.from_bytes(content[i+6:i+8],byteorder='big', signed=True)/100)\n",
    "        lz.append(int.from_bytes(content[i+8:i+10],byteorder='big', signed=True)/100)\n",
    "    # print(t,x/100,y/100,z/100)"
   ]
  },
  {
   "cell_type": "code",
   "execution_count": null,
   "metadata": {},
   "outputs": [],
   "source": [
    "df=pd.DataFrame((lt,lx,ly,lz)).transpose()\n",
    "df.columns=(\"t\",\"x\",\"y\",\"z\")\n",
    "df_a=df[(df[\"t\"]<3.8e6)&(df[\"t\"]>3.6e6)]"
   ]
  },
  {
   "cell_type": "code",
   "execution_count": null,
   "metadata": {},
   "outputs": [],
   "source": [
    "fig =px.line([],[], title=\"sick measure\", labels=\"ax\", markers=True)\n",
    "fig =fig.add_scatter(x=df_a[\"t\"], y=df_a[\"x\"], mode=\"lines+markers\")\n",
    "if fn!=\"sick\":\n",
    "    fig =fig.add_scatter(x=df_a[\"t\"], y=df_a[\"y\"], mode=\"lines+markers\")\n",
    "    fig =fig.add_scatter(x=df_a[\"t\"], y=df_a[\"z\"], mode=\"lines+markers\")\n",
    "fig.update_layout( showlegend=True)\n",
    "fig.show()\n"
   ]
  },
  {
   "cell_type": "code",
   "execution_count": null,
   "metadata": {},
   "outputs": [],
   "source": [
    "import numpy as np\n",
    "print(np.mean(lx), np.mean(ly), np.mean(lz))"
   ]
  }
 ],
 "metadata": {
  "kernelspec": {
   "display_name": "Python 3",
   "language": "python",
   "name": "python3"
  },
  "language_info": {
   "codemirror_mode": {
    "name": "ipython",
    "version": 3
   },
   "file_extension": ".py",
   "mimetype": "text/x-python",
   "name": "python",
   "nbconvert_exporter": "python",
   "pygments_lexer": "ipython3",
   "version": "3.11.4"
  }
 },
 "nbformat": 4,
 "nbformat_minor": 2
}
